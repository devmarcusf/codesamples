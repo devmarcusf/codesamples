{
 "cells": [
  {
   "cell_type": "markdown",
   "metadata": {},
   "source": [
    "# Chapter 7 - Collaborative Analytics with Plotly\n",
    "## Segment 1 - Creating basic charts\n",
    "### Setting up to use Plotly within Jupyter"
   ]
  },
  {
   "cell_type": "code",
   "execution_count": 16,
   "metadata": {},
   "outputs": [
    {
     "output_type": "stream",
     "name": "stdout",
     "text": "Requirement already satisfied: Plotly in c:\\python38\\lib\\site-packages (4.6.0)\nRequirement already satisfied: retrying>=1.3.3 in c:\\python38\\lib\\site-packages (from Plotly) (1.3.3)\nRequirement already satisfied: six in c:\\users\\marcusf.northamerica\\appdata\\roaming\\python\\python38\\site-packages (from Plotly) (1.14.0)\nRequirement already satisfied: chart-studio in c:\\python38\\lib\\site-packages (1.1.0)\nRequirement already satisfied: requests in c:\\python38\\lib\\site-packages (from chart-studio) (2.23.0)\nRequirement already satisfied: retrying>=1.3.3 in c:\\python38\\lib\\site-packages (from chart-studio) (1.3.3)\nRequirement already satisfied: plotly in c:\\python38\\lib\\site-packages (from chart-studio) (4.6.0)\nRequirement already satisfied: six in c:\\users\\marcusf.northamerica\\appdata\\roaming\\python\\python38\\site-packages (from chart-studio) (1.14.0)\nRequirement already satisfied: idna<3,>=2.5 in c:\\python38\\lib\\site-packages (from requests->chart-studio) (2.9)\nRequirement already satisfied: chardet<4,>=3.0.2 in c:\\python38\\lib\\site-packages (from requests->chart-studio) (3.0.4)\nRequirement already satisfied: urllib3!=1.25.0,!=1.25.1,<1.26,>=1.21.1 in c:\\python38\\lib\\site-packages (from requests->chart-studio) (1.25.8)\nRequirement already satisfied: certifi>=2017.4.17 in c:\\python38\\lib\\site-packages (from requests->chart-studio) (2020.4.5.1)\n"
    }
   ],
   "source": [
    "! pip install Plotly\n",
    "! pip install chart-studio"
   ]
  },
  {
   "cell_type": "code",
   "execution_count": 3,
   "metadata": {},
   "outputs": [
    {
     "output_type": "stream",
     "name": "stdout",
     "text": "Requirement already satisfied: cufflinks in c:\\python38\\lib\\site-packages (0.17.3)\nRequirement already satisfied: numpy>=1.9.2 in c:\\python38\\lib\\site-packages (from cufflinks) (1.18.2)\nRequirement already satisfied: pandas>=0.19.2 in c:\\python38\\lib\\site-packages (from cufflinks) (1.0.3)\nRequirement already satisfied: six>=1.9.0 in c:\\users\\marcusf.northamerica\\appdata\\roaming\\python\\python38\\site-packages (from cufflinks) (1.14.0)\nRequirement already satisfied: ipywidgets>=7.0.0 in c:\\users\\marcusf.northamerica\\appdata\\roaming\\python\\python38\\site-packages (from cufflinks) (7.5.1)\nRequirement already satisfied: colorlover>=0.2.1 in c:\\python38\\lib\\site-packages (from cufflinks) (0.3.0)\nRequirement already satisfied: ipython>=5.3.0 in c:\\users\\marcusf.northamerica\\appdata\\roaming\\python\\python38\\site-packages (from cufflinks) (7.13.0)\nRequirement already satisfied: plotly>=4.1.1 in c:\\python38\\lib\\site-packages (from cufflinks) (4.6.0)\nRequirement already satisfied: setuptools>=34.4.1 in c:\\python38\\lib\\site-packages (from cufflinks) (41.2.0)\nRequirement already satisfied: pytz>=2017.2 in c:\\python38\\lib\\site-packages (from pandas>=0.19.2->cufflinks) (2019.3)\nRequirement already satisfied: python-dateutil>=2.6.1 in c:\\users\\marcusf.northamerica\\appdata\\roaming\\python\\python38\\site-packages (from pandas>=0.19.2->cufflinks) (2.8.1)\nRequirement already satisfied: widgetsnbextension~=3.5.0 in c:\\users\\marcusf.northamerica\\appdata\\roaming\\python\\python38\\site-packages (from ipywidgets>=7.0.0->cufflinks) (3.5.1)\nRequirement already satisfied: traitlets>=4.3.1 in c:\\users\\marcusf.northamerica\\appdata\\roaming\\python\\python38\\site-packages (from ipywidgets>=7.0.0->cufflinks) (4.3.3)\nRequirement already satisfied: nbformat>=4.2.0 in c:\\users\\marcusf.northamerica\\appdata\\roaming\\python\\python38\\site-packages (from ipywidgets>=7.0.0->cufflinks) (5.0.5)\nRequirement already satisfied: ipykernel>=4.5.1 in c:\\users\\marcusf.northamerica\\appdata\\roaming\\python\\python38\\site-packages (from ipywidgets>=7.0.0->cufflinks) (5.2.0)\nRequirement already satisfied: pickleshare in c:\\users\\marcusf.northamerica\\appdata\\roaming\\python\\python38\\site-packages (from ipython>=5.3.0->cufflinks) (0.7.5)\nRequirement already satisfied: prompt-toolkit!=3.0.0,!=3.0.1,<3.1.0,>=2.0.0 in c:\\users\\marcusf.northamerica\\appdata\\roaming\\python\\python38\\site-packages (from ipython>=5.3.0->cufflinks) (3.0.5)\nRequirement already satisfied: jedi>=0.10 in c:\\users\\marcusf.northamerica\\appdata\\roaming\\python\\python38\\site-packages (from ipython>=5.3.0->cufflinks) (0.16.0)\nRequirement already satisfied: colorama; sys_platform == \"win32\" in c:\\users\\marcusf.northamerica\\appdata\\roaming\\python\\python38\\site-packages (from ipython>=5.3.0->cufflinks) (0.4.3)\nRequirement already satisfied: decorator in c:\\users\\marcusf.northamerica\\appdata\\roaming\\python\\python38\\site-packages (from ipython>=5.3.0->cufflinks) (4.4.2)\nRequirement already satisfied: backcall in c:\\users\\marcusf.northamerica\\appdata\\roaming\\python\\python38\\site-packages (from ipython>=5.3.0->cufflinks) (0.1.0)\nRequirement already satisfied: pygments in c:\\users\\marcusf.northamerica\\appdata\\roaming\\python\\python38\\site-packages (from ipython>=5.3.0->cufflinks) (2.6.1)\nRequirement already satisfied: retrying>=1.3.3 in c:\\python38\\lib\\site-packages (from plotly>=4.1.1->cufflinks) (1.3.3)\nRequirement already satisfied: notebook>=4.4.1 in c:\\users\\marcusf.northamerica\\appdata\\roaming\\python\\python38\\site-packages (from widgetsnbextension~=3.5.0->ipywidgets>=7.0.0->cufflinks) (6.0.3)\nRequirement already satisfied: ipython-genutils in c:\\users\\marcusf.northamerica\\appdata\\roaming\\python\\python38\\site-packages (from traitlets>=4.3.1->ipywidgets>=7.0.0->cufflinks) (0.2.0)\nRequirement already satisfied: jsonschema!=2.5.0,>=2.4 in c:\\users\\marcusf.northamerica\\appdata\\roaming\\python\\python38\\site-packages (from nbformat>=4.2.0->ipywidgets>=7.0.0->cufflinks) (3.2.0)\nRequirement already satisfied: jupyter-core in c:\\users\\marcusf.northamerica\\appdata\\roaming\\python\\python38\\site-packages (from nbformat>=4.2.0->ipywidgets>=7.0.0->cufflinks) (4.6.3)\nRequirement already satisfied: tornado>=4.2 in c:\\users\\marcusf.northamerica\\appdata\\roaming\\python\\python38\\site-packages (from ipykernel>=4.5.1->ipywidgets>=7.0.0->cufflinks) (6.0.4)\nRequirement already satisfied: jupyter-client in c:\\users\\marcusf.northamerica\\appdata\\roaming\\python\\python38\\site-packages (from ipykernel>=4.5.1->ipywidgets>=7.0.0->cufflinks) (6.1.2)\nRequirement already satisfied: wcwidth in c:\\users\\marcusf.northamerica\\appdata\\roaming\\python\\python38\\site-packages (from prompt-toolkit!=3.0.0,!=3.0.1,<3.1.0,>=2.0.0->ipython>=5.3.0->cufflinks) (0.1.9)\nRequirement already satisfied: parso>=0.5.2 in c:\\users\\marcusf.northamerica\\appdata\\roaming\\python\\python38\\site-packages (from jedi>=0.10->ipython>=5.3.0->cufflinks) (0.6.2)\nRequirement already satisfied: prometheus-client in c:\\users\\marcusf.northamerica\\appdata\\roaming\\python\\python38\\site-packages (from notebook>=4.4.1->widgetsnbextension~=3.5.0->ipywidgets>=7.0.0->cufflinks) (0.7.1)\nRequirement already satisfied: pyzmq>=17 in c:\\users\\marcusf.northamerica\\appdata\\roaming\\python\\python38\\site-packages (from notebook>=4.4.1->widgetsnbextension~=3.5.0->ipywidgets>=7.0.0->cufflinks) (19.0.0)\nRequirement already satisfied: nbconvert in c:\\users\\marcusf.northamerica\\appdata\\roaming\\python\\python38\\site-packages (from notebook>=4.4.1->widgetsnbextension~=3.5.0->ipywidgets>=7.0.0->cufflinks) (5.6.1)\nRequirement already satisfied: Send2Trash in c:\\users\\marcusf.northamerica\\appdata\\roaming\\python\\python38\\site-packages (from notebook>=4.4.1->widgetsnbextension~=3.5.0->ipywidgets>=7.0.0->cufflinks) (1.5.0)\nRequirement already satisfied: terminado>=0.8.1 in c:\\users\\marcusf.northamerica\\appdata\\roaming\\python\\python38\\site-packages (from notebook>=4.4.1->widgetsnbextension~=3.5.0->ipywidgets>=7.0.0->cufflinks) (0.8.3)\nRequirement already satisfied: jinja2 in c:\\users\\marcusf.northamerica\\appdata\\roaming\\python\\python38\\site-packages (from notebook>=4.4.1->widgetsnbextension~=3.5.0->ipywidgets>=7.0.0->cufflinks) (2.11.1)\nRequirement already satisfied: attrs>=17.4.0 in c:\\users\\marcusf.northamerica\\appdata\\roaming\\python\\python38\\site-packages (from jsonschema!=2.5.0,>=2.4->nbformat>=4.2.0->ipywidgets>=7.0.0->cufflinks) (19.3.0)\nRequirement already satisfied: pyrsistent>=0.14.0 in c:\\users\\marcusf.northamerica\\appdata\\roaming\\python\\python38\\site-packages (from jsonschema!=2.5.0,>=2.4->nbformat>=4.2.0->ipywidgets>=7.0.0->cufflinks) (0.16.0)\nRequirement already satisfied: pywin32>=1.0; sys_platform == \"win32\" in c:\\users\\marcusf.northamerica\\appdata\\roaming\\python\\python38\\site-packages (from jupyter-core->nbformat>=4.2.0->ipywidgets>=7.0.0->cufflinks) (227)\nRequirement already satisfied: testpath in c:\\users\\marcusf.northamerica\\appdata\\roaming\\python\\python38\\site-packages (from nbconvert->notebook>=4.4.1->widgetsnbextension~=3.5.0->ipywidgets>=7.0.0->cufflinks) (0.4.4)\nRequirement already satisfied: pandocfilters>=1.4.1 in c:\\users\\marcusf.northamerica\\appdata\\roaming\\python\\python38\\site-packages (from nbconvert->notebook>=4.4.1->widgetsnbextension~=3.5.0->ipywidgets>=7.0.0->cufflinks) (1.4.2)\nRequirement already satisfied: defusedxml in c:\\users\\marcusf.northamerica\\appdata\\roaming\\python\\python38\\site-packages (from nbconvert->notebook>=4.4.1->widgetsnbextension~=3.5.0->ipywidgets>=7.0.0->cufflinks) (0.6.0)\nRequirement already satisfied: entrypoints>=0.2.2 in c:\\users\\marcusf.northamerica\\appdata\\roaming\\python\\python38\\site-packages (from nbconvert->notebook>=4.4.1->widgetsnbextension~=3.5.0->ipywidgets>=7.0.0->cufflinks) (0.3)\nRequirement already satisfied: mistune<2,>=0.8.1 in c:\\users\\marcusf.northamerica\\appdata\\roaming\\python\\python38\\site-packages (from nbconvert->notebook>=4.4.1->widgetsnbextension~=3.5.0->ipywidgets>=7.0.0->cufflinks) (0.8.4)\nRequirement already satisfied: bleach in c:\\users\\marcusf.northamerica\\appdata\\roaming\\python\\python38\\site-packages (from nbconvert->notebook>=4.4.1->widgetsnbextension~=3.5.0->ipywidgets>=7.0.0->cufflinks) (3.1.4)\nRequirement already satisfied: pywinpty>=0.5; os_name == \"nt\" in c:\\users\\marcusf.northamerica\\appdata\\roaming\\python\\python38\\site-packages (from terminado>=0.8.1->notebook>=4.4.1->widgetsnbextension~=3.5.0->ipywidgets>=7.0.0->cufflinks) (0.5.7)\nRequirement already satisfied: MarkupSafe>=0.23 in c:\\users\\marcusf.northamerica\\appdata\\roaming\\python\\python38\\site-packages (from jinja2->notebook>=4.4.1->widgetsnbextension~=3.5.0->ipywidgets>=7.0.0->cufflinks) (1.1.1)\nRequirement already satisfied: webencodings in c:\\users\\marcusf.northamerica\\appdata\\roaming\\python\\python38\\site-packages (from bleach->nbconvert->notebook>=4.4.1->widgetsnbextension~=3.5.0->ipywidgets>=7.0.0->cufflinks) (0.5.1)\n"
    }
   ],
   "source": [
    "! pip install cufflinks"
   ]
  },
  {
   "cell_type": "code",
   "execution_count": 21,
   "metadata": {},
   "outputs": [],
   "source": [
    "import numpy as np\n",
    "import pandas as pd\n",
    "\n",
    "import cufflinks as cf\n",
    "\n",
    "import chart_studio.plotly as py\n",
    "import chart_studio.tools as tls\n",
    "\n",
    "import plotly.graph_objs as go"
   ]
  },
  {
   "cell_type": "code",
   "execution_count": 22,
   "metadata": {},
   "outputs": [],
   "source": [
    "tls.set_credentials_file(username='smrtrock', api_key='s79WeG603gPXXlfXO0dr')"
   ]
  },
  {
   "cell_type": "markdown",
   "metadata": {},
   "source": [
    "### Creating line charts"
   ]
  },
  {
   "cell_type": "markdown",
   "metadata": {},
   "source": [
    "#### A very basic line chart"
   ]
  },
  {
   "cell_type": "code",
   "execution_count": 23,
   "metadata": {},
   "outputs": [
    {
     "output_type": "execute_result",
     "data": {
      "text/plain": "<IPython.lib.display.IFrame at 0x1524c727e80>",
      "text/html": "\n        <iframe\n            width=\"100%\"\n            height=\"525px\"\n            src=\"https://plotly.com/~smrtrock/6.embed\"\n            frameborder=\"0\"\n            allowfullscreen\n        ></iframe>\n        "
     },
     "metadata": {},
     "execution_count": 23
    }
   ],
   "source": [
    "a = np.linspace(start=0, stop=36, num=36)\n",
    "\n",
    "np.random.seed(25)\n",
    "\n",
    "b = np.random.uniform(low=0.0, high=1.0, size=36)\n",
    "\n",
    "trace = go.Scatter(x=a, y=b)\n",
    "\n",
    "data = [trace]\n",
    "\n",
    "py.iplot(data, filename='basic-line-chart')\n",
    ""
   ]
  },
  {
   "cell_type": "markdown",
   "metadata": {},
   "source": [
    "#### A line chart from a pandas dataframe "
   ]
  },
  {
   "cell_type": "code",
   "execution_count": 24,
   "metadata": {},
   "outputs": [
    {
     "output_type": "execute_result",
     "data": {
      "text/plain": "<IPython.lib.display.IFrame at 0x1524cb5fc10>",
      "text/html": "\n        <iframe\n            width=\"100%\"\n            height=\"525px\"\n            src=\"https://plotly.com/~smrtrock/3.embed\"\n            frameborder=\"0\"\n            allowfullscreen\n        ></iframe>\n        "
     },
     "metadata": {},
     "execution_count": 24
    }
   ],
   "source": [
    "address = '../Data/mtcars.csv'\n",
    "\n",
    "cars = pd.read_csv(address)\n",
    "cars.columns = ['car_names','mpg','cyl','disp', 'hp', 'drat', 'wt', 'qsec', 'vs', 'am', 'gear', 'carb']\n",
    "\n",
    "df = cars[['cyl', 'wt','mpg']]\n",
    "\n",
    "layout = dict(title='Chart from Pandas DataFrame', xaxis= dict(title='x-axis'), yaxis= dict(title='y-axis'))\n",
    "\n",
    "df.iplot(filename='cf-simple-line-chart', layout=layout)"
   ]
  },
  {
   "cell_type": "markdown",
   "metadata": {},
   "source": [
    "### Creating bar charts"
   ]
  },
  {
   "cell_type": "code",
   "execution_count": 25,
   "metadata": {},
   "outputs": [
    {
     "output_type": "stream",
     "name": "stdout",
     "text": "[Bar({\n    'x': [1, 2, 3, 4, 5, 6, 7, 8, 9, 10], 'y': [1, 2, 3, 4, 0.5, 4, 3, 2, 1]\n})]\n"
    }
   ],
   "source": [
    "data = [go.Bar(x=[1,2,3,4,5,6,7,8,9,10], y=[1,2,3,4,0.5,4,3,2,1])]\n",
    "print(data)"
   ]
  },
  {
   "cell_type": "code",
   "execution_count": 26,
   "metadata": {},
   "outputs": [
    {
     "output_type": "execute_result",
     "data": {
      "text/plain": "<IPython.lib.display.IFrame at 0x1524e09d4f0>",
      "text/html": "\n        <iframe\n            width=\"100%\"\n            height=\"525px\"\n            src=\"https://plotly.com/~smrtrock/9.embed\"\n            frameborder=\"0\"\n            allowfullscreen\n        ></iframe>\n        "
     },
     "metadata": {},
     "execution_count": 26
    }
   ],
   "source": [
    "layout = dict(title='Simple Bar Chart', xaxis=dict(title='x-axis'), yaxis=dict(title='y-axis'))\n",
    "py.iplot(data, filename='basic-bar-chart', layout=layout)"
   ]
  },
  {
   "cell_type": "markdown",
   "metadata": {},
   "source": [
    "### Creating pie charts"
   ]
  },
  {
   "cell_type": "code",
   "execution_count": 28,
   "metadata": {},
   "outputs": [
    {
     "output_type": "execute_result",
     "data": {
      "text/plain": "<IPython.lib.display.IFrame at 0x1524dfbcb20>",
      "text/html": "\n        <iframe\n            width=\"100%\"\n            height=\"525px\"\n            src=\"https://plotly.com/~smrtrock/13.embed\"\n            frameborder=\"0\"\n            allowfullscreen\n        ></iframe>\n        "
     },
     "metadata": {},
     "execution_count": 28
    }
   ],
   "source": [
    "fig = {'data': [{'labels': ['bicycle', 'motorcycle', 'car', 'van', 'stroller'], \n",
    "        'values':[1,2,3,4,0.5], \n",
    "        'type': 'pie'}], \n",
    "        'layout': {'title': 'Simple Pie Chart'}}\n",
    "py.iplot(fig)"
   ]
  },
  {
   "cell_type": "code",
   "execution_count": null,
   "metadata": {},
   "outputs": [],
   "source": []
  }
 ],
 "metadata": {
  "anaconda-cloud": {},
  "kernelspec": {
   "display_name": "Python 3",
   "language": "python",
   "name": "python3"
  },
  "language_info": {
   "codemirror_mode": {
    "name": "ipython",
    "version": 3
   },
   "file_extension": ".py",
   "mimetype": "text/x-python",
   "name": "python",
   "nbconvert_exporter": "python",
   "pygments_lexer": "ipython3",
   "version": "3.8.2-final"
  }
 },
 "nbformat": 4,
 "nbformat_minor": 1
}