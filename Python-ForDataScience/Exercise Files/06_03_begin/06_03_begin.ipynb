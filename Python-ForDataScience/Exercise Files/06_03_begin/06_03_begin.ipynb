{
 "cells": [
  {
   "cell_type": "markdown",
   "metadata": {},
   "source": [
    "# Chapter 6 -  Data Sourcing via Web\n",
    "## Segment 3 - Data parsing"
   ]
  },
  {
   "cell_type": "code",
   "execution_count": 8,
   "metadata": {},
   "outputs": [],
   "source": [
    "from bs4 import BeautifulSoup\n",
    "import urllib\n",
    "import urllib.request\n",
    "import re"
   ]
  },
  {
   "cell_type": "code",
   "execution_count": 9,
   "metadata": {},
   "outputs": [],
   "source": [
    "with urllib.request.urlopen('https://raw.githubusercontent.com/BigDataGal/Data-Mania-Demos/master/IoT-2018.html') as response: \n",
    "    html = response.read()"
   ]
  },
  {
   "cell_type": "code",
   "execution_count": 10,
   "metadata": {},
   "outputs": [
    {
     "output_type": "execute_result",
     "data": {
      "text/plain": "bs4.BeautifulSoup"
     },
     "metadata": {},
     "execution_count": 10
    }
   ],
   "source": [
    "soup = BeautifulSoup(html, 'lxml')\n",
    "type(soup)"
   ]
  },
  {
   "cell_type": "markdown",
   "metadata": {},
   "source": [
    "### Parsing your data"
   ]
  },
  {
   "cell_type": "code",
   "execution_count": 11,
   "metadata": {},
   "outputs": [
    {
     "output_type": "stream",
     "name": "stdout",
     "text": "<html>\n <head>\n  <title>\n   IoT Articles\n  </title>\n </head>\n <body>\n  <p class=\"title\">\n   <b>\n    \n"
    }
   ],
   "source": [
    "print(soup.prettify()[0:100])"
   ]
  },
  {
   "cell_type": "markdown",
   "metadata": {},
   "source": [
    "### Getting data from a parse tree"
   ]
  },
  {
   "cell_type": "code",
   "execution_count": 12,
   "metadata": {},
   "outputs": [
    {
     "output_type": "stream",
     "name": "stdout",
     "text": "IoT Articles\n\n2018 Trends: Best New IoT Device Ideas for Data Scientists and Engineers\nIt’s almost 2018 and IoT is on the cusp of an explosive expansion. In this article, I offer you a listing of new IoT device ideas that you can use...\n\n\nIt’s almost 2018 and IoT is on the cusp of an explosive expansion. In this article, I offer you a listing of new IoT device ideas that you can use to get practice in designing your first IoT applications.\nLooking Back at My Coolest IoT Find in 2017\nBefore going into detail about best new IoT device ideas, here’s the backstory. Last month Ericsson Digital invited me to tour the Ericsson Studio in Kista, Sweden. Up until that visit, IoT had been largely theoretical to me. Of course, I know the usual mumbo-jumbo about wearables and IoT-connected fitness trackers. That stuff is all well and good, but it’s somewhat old hat – plus I am not sure we are really benefiting so much from those, so I’m not that impressed.\n\nIt wasn’t until I got to the Ericsson Studio that I became extremely impressed by how far IoT has really come. Relying on the promise of the 5g network expansion, IoT-powered smart devices are on the cusp of an explosive growth in adoption. It was Ericsson’s Smart Car that sent me reeling:\n\nThis car is connected to Ericsson’s Connected Vehicle Cloud, an IoT platform that manages services for the Smart Cars to which it’s connected. The Volvo pictured above acts as a drop-off location for groceries that have been ordered by its owner.\n\nTo understand how it works, imagine you’re pulling your normal 9-to-5 and you know you need to grab some groceries on your way home. Well, since you’re smart you’ve used Ericsson IoT platform to connect your car to the local grocery delivery service (Mat.se), so all you need to do is open the Mat.se app and make your usual order. Mat.se automatically handles the payment, grocery selection, delivery, and delivery scheduling. Since your car is IoT-enabled, Mat.se issues its trusted delivery agent a 1-time token to use for opening your car in order to place your groceries in your car for you at 4:40 pm (just before you get off from work).\n\nTo watch some of the amazing IoT device demos I witnessed at Ericsson Studio, make sure to go watch the videos on this page.\nFuture Trends for IoT in 2018\nNew IoT device ideas won’t do you much good unless you at least know the basic technology trends that are set to impact IoT over the next year(s). These include:\n\nBig Data & Data Engineering: Sensors that are embedded within IoT devices spin off machine-generated data like it’s going out of style. For IoT to function, the platform must be solidly engineered to handle big data. Be assured, that requires some serious data engineering.\nMachine Learning Data Science: While a lot of IoT devices are still operated according to rules-based decision criteria, the age of artificial intelligence is upon us. IoT will increasingly depend on machine learning algorithms to control device operations so that devices are able to autonomously respond to a complex set of overlapping stimuli.\nBlockchain-Enabled Security: Above all else, IoT networks must be secure. Blockchain technology is primed to meet the security demands that come along with building and expanding the IoT.\n\nBest New IoT Device Ideas\nThis listing of new IoT device ideas has been sub-divided according to the main technology upon which the IoT devices are built. Below I’m providing a list of new IoT device ideas, but for detailed instructions on how to build these IoT applications, I recommend the IoT courses on Udemy (ß Please note: if you purchase a Udemy course through this link, I may receive a small commission), or courses that are available at SkyFi and Coursera.\nRaspberry Pi IoT Ideas\nUsing Raspberry Pi as open-source hardware, you can build IoT applications that offer any one of the following benefits:\n\nEnable built-in sensing to build a weather station that measures ambient temperature and humidity\nBuild a system that detects discrepancies in electrical readings to identify electricity theft\nUse IoT to build a Servo that is controlled by motion detection readings\nBuild a smart control switch that operates devices based on external stimuli. Use this for home automation.\nBuild a music playing application that enables music for each room in your house\nImplement biometrics on IoT-connected devices\n\nArduino IoT Ideas\nThere are a number of new IoT device ideas that deploy Arduino as a microcontroller. These include:\n\nIntegrate Arduino with Android to build a remote-control RGB LED device.\nConnect PIR sensors across the IoT to implement a smart building.\nBuild a temperature and sunlight sensor system to remotely monitor and control the conditions of your garden.\nDeploy Arduino and IoT to automate your neighborhood streetlights.\nBuild a smart irrigation system based on IoT-connected temperature and moisture sensors built-in to your agricultural plants.\n\n[caption id=\"attachment_3807\" align=\"aligncenter\" width=\"300\"] An IoT Chatbot Tree at the Ericsson Studio[/caption]\nWireless (GSM) IoT Ideas\nSeveral new IoT device ideas are developed around the GSM wireless network. Those are:\n\nMonitor soil moisture to automate agricultural irrigation cycles.\nAutomate and control the conditions of a greenhouse.\nEnable bio-metrics to build a smart security system for your home or office building\nBuild an autonomously operating fitness application that automatically makes recommendations based on motion detection and heart rate sensors that are embedded on wearable fitness trackers.\nBuild a healthcare monitoring system that tracks, informs, and automatically alerts healthcare providers based on sensor readings that describe a patients vital statistics (like temperature, pulse, blood pressure, etc).\n\nIoT Automation Ideas\nAlmost all new IoT device ideas offer automation benefits, but to outline a few more ideas:\n\nBuild an IoT device that automatically locates and reports the closest nearby parking spot.\nBuild a motion detection system that automatically issues emails or sms messages to alert home owners of a likely home invasion.\nUse temperature sensors connected across the IoT to automatically alert you if your home windows or doors have been left open.\nUse bio-metric sensors to build a smart system that automate security for your home or office building\n\nTo learn more about IoT and what’s happening on the leading edge, be sure to pop over to Ericsson’s Studio Tour recap and watch these videos.\n\n(I captured some of this content on behalf of DevMode Strategies during an invite-only tour of the Ericsson Studio in Kista. Rest assure, the text and opinions are my own)\n...\n"
    }
   ],
   "source": [
    "text_only = soup.get_text()\n",
    "print(text_only)"
   ]
  },
  {
   "cell_type": "markdown",
   "metadata": {},
   "source": [
    "### Searching and retrieving data from a parse tree"
   ]
  },
  {
   "cell_type": "markdown",
   "metadata": {},
   "source": [
    "#### Retrieving tags by filtering with name arguments"
   ]
  },
  {
   "cell_type": "code",
   "execution_count": 13,
   "metadata": {},
   "outputs": [
    {
     "output_type": "execute_result",
     "data": {
      "text/plain": "[<li><strong>Big Data</strong> &amp; Data Engineering: Sensors that are embedded within IoT devices spin off machine-generated data like it’s going out of style. For IoT to function, the platform must be solidly engineered to handle big data. Be assured, that requires some serious data engineering.</li>,\n <li><strong>Machine Learning</strong> Data Science: While a lot of IoT devices are still operated according to rules-based decision criteria, the age of artificial intelligence is upon us. IoT will increasingly depend on machine learning algorithms to control device operations so that devices are able to autonomously respond to a complex set of overlapping stimuli.</li>,\n <li><strong>Blockchain</strong>-Enabled Security: Above all else, IoT networks must be secure. Blockchain technology is primed to meet the security demands that come along with building and expanding the IoT.</li>,\n <li>Enable built-in sensing to build a weather station that measures ambient temperature and humidity</li>,\n <li>Build a system that detects discrepancies in electrical readings to identify electricity theft</li>,\n <li>Use IoT to build a Servo that is controlled by motion detection readings</li>,\n <li>Build a smart control switch that operates devices based on external stimuli. Use this for home automation.</li>,\n <li>Build a music playing application that enables music for each room in your house</li>,\n <li>Implement biometrics on IoT-connected devices</li>,\n <li>Integrate Arduino with Android to build a remote-control RGB LED device.</li>,\n <li>Connect PIR sensors across the IoT to implement a smart building.</li>,\n <li>Build a temperature and sunlight sensor system to remotely monitor and control the conditions of your garden.</li>,\n <li>Deploy Arduino and IoT to automate your neighborhood streetlights.</li>,\n <li>Build a smart irrigation system based on IoT-connected temperature and moisture sensors built-in to your agricultural plants.</li>,\n <li>Monitor soil moisture to automate agricultural irrigation cycles.</li>,\n <li>Automate and control the conditions of a greenhouse.</li>,\n <li>Enable bio-metrics to build a smart security system for your home or office building</li>,\n <li>Build an autonomously operating fitness application that automatically makes recommendations based on motion detection and heart rate sensors that are embedded on wearable fitness trackers.</li>,\n <li>Build a healthcare monitoring system that tracks, informs, and automatically alerts healthcare providers based on sensor readings that describe a patients vital statistics (like temperature, pulse, blood pressure, etc).</li>,\n <li>Build an IoT device that automatically locates and reports the closest nearby parking spot.</li>,\n <li>Build a motion detection system that automatically issues emails or sms messages to alert home owners of a likely home invasion.</li>,\n <li>Use temperature sensors connected across the IoT to automatically alert you if your home windows or doors have been left open.</li>,\n <li>Use bio-metric sensors to build a smart system that automate security for your home or office building</li>]"
     },
     "metadata": {},
     "execution_count": 13
    }
   ],
   "source": [
    "soup.find_all('li')"
   ]
  },
  {
   "cell_type": "markdown",
   "metadata": {},
   "source": [
    "##### Retrieving tags by filtering with keyword arguments"
   ]
  },
  {
   "cell_type": "code",
   "execution_count": 14,
   "metadata": {},
   "outputs": [
    {
     "output_type": "execute_result",
     "data": {
      "text/plain": "[<a class=\"preview\" href=\"http://www.skyfilabs.com/iot-online-courses\" id=\"link 7\">SkyFi</a>]"
     },
     "metadata": {},
     "execution_count": 14
    }
   ],
   "source": [
    "soup.find_all(id='link 7')"
   ]
  },
  {
   "cell_type": "markdown",
   "metadata": {},
   "source": [
    "##### Retrieving tags by filtering with string arguments"
   ]
  },
  {
   "cell_type": "code",
   "execution_count": 15,
   "metadata": {},
   "outputs": [
    {
     "output_type": "execute_result",
     "data": {
      "text/plain": "[<ol>\n <li><strong>Big Data</strong> &amp; Data Engineering: Sensors that are embedded within IoT devices spin off machine-generated data like it’s going out of style. For IoT to function, the platform must be solidly engineered to handle big data. Be assured, that requires some serious data engineering.</li>\n <li><strong>Machine Learning</strong> Data Science: While a lot of IoT devices are still operated according to rules-based decision criteria, the age of artificial intelligence is upon us. IoT will increasingly depend on machine learning algorithms to control device operations so that devices are able to autonomously respond to a complex set of overlapping stimuli.</li>\n <li><strong>Blockchain</strong>-Enabled Security: Above all else, IoT networks must be secure. Blockchain technology is primed to meet the security demands that come along with building and expanding the IoT.</li>\n </ol>,\n <ol>\n <li>Enable built-in sensing to build a weather station that measures ambient temperature and humidity</li>\n <li>Build a system that detects discrepancies in electrical readings to identify electricity theft</li>\n <li>Use IoT to build a Servo that is controlled by motion detection readings</li>\n <li>Build a smart control switch that operates devices based on external stimuli. Use this for home automation.</li>\n <li>Build a music playing application that enables music for each room in your house</li>\n <li>Implement biometrics on IoT-connected devices</li>\n </ol>,\n <ol>\n <li>Integrate Arduino with Android to build a remote-control RGB LED device.</li>\n <li>Connect PIR sensors across the IoT to implement a smart building.</li>\n <li>Build a temperature and sunlight sensor system to remotely monitor and control the conditions of your garden.</li>\n <li>Deploy Arduino and IoT to automate your neighborhood streetlights.</li>\n <li>Build a smart irrigation system based on IoT-connected temperature and moisture sensors built-in to your agricultural plants.</li>\n </ol>,\n <ol>\n <li>Monitor soil moisture to automate agricultural irrigation cycles.</li>\n <li>Automate and control the conditions of a greenhouse.</li>\n <li>Enable bio-metrics to build a smart security system for your home or office building</li>\n <li>Build an autonomously operating fitness application that automatically makes recommendations based on motion detection and heart rate sensors that are embedded on wearable fitness trackers.</li>\n <li>Build a healthcare monitoring system that tracks, informs, and automatically alerts healthcare providers based on sensor readings that describe a patients vital statistics (like temperature, pulse, blood pressure, etc).</li>\n </ol>,\n <ol>\n <li>Build an IoT device that automatically locates and reports the closest nearby parking spot.</li>\n <li>Build a motion detection system that automatically issues emails or sms messages to alert home owners of a likely home invasion.</li>\n <li>Use temperature sensors connected across the IoT to automatically alert you if your home windows or doors have been left open.</li>\n <li>Use bio-metric sensors to build a smart system that automate security for your home or office building</li>\n </ol>]"
     },
     "metadata": {},
     "execution_count": 15
    }
   ],
   "source": [
    "soup.find_all('ol')"
   ]
  },
  {
   "cell_type": "markdown",
   "metadata": {},
   "source": [
    "##### Retrieving tags by filtering with list objects"
   ]
  },
  {
   "cell_type": "code",
   "execution_count": 16,
   "metadata": {},
   "outputs": [
    {
     "output_type": "execute_result",
     "data": {
      "text/plain": "[<b>2018 Trends: Best New IoT Device Ideas for Data Scientists and Engineers</b>,\n <ol>\n <li><strong>Big Data</strong> &amp; Data Engineering: Sensors that are embedded within IoT devices spin off machine-generated data like it’s going out of style. For IoT to function, the platform must be solidly engineered to handle big data. Be assured, that requires some serious data engineering.</li>\n <li><strong>Machine Learning</strong> Data Science: While a lot of IoT devices are still operated according to rules-based decision criteria, the age of artificial intelligence is upon us. IoT will increasingly depend on machine learning algorithms to control device operations so that devices are able to autonomously respond to a complex set of overlapping stimuli.</li>\n <li><strong>Blockchain</strong>-Enabled Security: Above all else, IoT networks must be secure. Blockchain technology is primed to meet the security demands that come along with building and expanding the IoT.</li>\n </ol>,\n <ol>\n <li>Enable built-in sensing to build a weather station that measures ambient temperature and humidity</li>\n <li>Build a system that detects discrepancies in electrical readings to identify electricity theft</li>\n <li>Use IoT to build a Servo that is controlled by motion detection readings</li>\n <li>Build a smart control switch that operates devices based on external stimuli. Use this for home automation.</li>\n <li>Build a music playing application that enables music for each room in your house</li>\n <li>Implement biometrics on IoT-connected devices</li>\n </ol>,\n <ol>\n <li>Integrate Arduino with Android to build a remote-control RGB LED device.</li>\n <li>Connect PIR sensors across the IoT to implement a smart building.</li>\n <li>Build a temperature and sunlight sensor system to remotely monitor and control the conditions of your garden.</li>\n <li>Deploy Arduino and IoT to automate your neighborhood streetlights.</li>\n <li>Build a smart irrigation system based on IoT-connected temperature and moisture sensors built-in to your agricultural plants.</li>\n </ol>,\n <ol>\n <li>Monitor soil moisture to automate agricultural irrigation cycles.</li>\n <li>Automate and control the conditions of a greenhouse.</li>\n <li>Enable bio-metrics to build a smart security system for your home or office building</li>\n <li>Build an autonomously operating fitness application that automatically makes recommendations based on motion detection and heart rate sensors that are embedded on wearable fitness trackers.</li>\n <li>Build a healthcare monitoring system that tracks, informs, and automatically alerts healthcare providers based on sensor readings that describe a patients vital statistics (like temperature, pulse, blood pressure, etc).</li>\n </ol>,\n <ol>\n <li>Build an IoT device that automatically locates and reports the closest nearby parking spot.</li>\n <li>Build a motion detection system that automatically issues emails or sms messages to alert home owners of a likely home invasion.</li>\n <li>Use temperature sensors connected across the IoT to automatically alert you if your home windows or doors have been left open.</li>\n <li>Use bio-metric sensors to build a smart system that automate security for your home or office building</li>\n </ol>]"
     },
     "metadata": {},
     "execution_count": 16
    }
   ],
   "source": [
    "soup.find_all(['ol','b'])"
   ]
  },
  {
   "cell_type": "markdown",
   "metadata": {},
   "source": [
    "##### Retrieving tags by filtering with regular expressions"
   ]
  },
  {
   "cell_type": "code",
   "execution_count": 17,
   "metadata": {},
   "outputs": [
    {
     "output_type": "stream",
     "name": "stdout",
     "text": "html\ntitle\nstrong\nstrong\nstrong\nstrong\nstrong\nstrong\n"
    }
   ],
   "source": [
    "t = re.compile('t')\n",
    "for tag in soup.find_all(t): \n",
    "    print(tag.name)"
   ]
  },
  {
   "cell_type": "markdown",
   "metadata": {},
   "source": [
    "##### Retrieving tags by filtering with a Boolean value"
   ]
  },
  {
   "cell_type": "code",
   "execution_count": 18,
   "metadata": {},
   "outputs": [
    {
     "output_type": "stream",
     "name": "stdout",
     "text": "html\nhead\ntitle\nbody\np\nb\np\nbr\nbr\nh1\nspan\nstrong\na\na\na\nimg\na\nspan\nstrong\na\nh1\nol\nli\nstrong\nli\nstrong\nli\nstrong\nh1\na\na\na\nh2\nol\nli\nli\nli\nli\nli\nli\nh2\nol\nli\nli\nli\nli\nli\na\nimg\nh2\nol\nli\nli\nli\nli\nli\nh2\nol\nli\nli\nli\nli\nspan\nstrong\na\nem\np\n"
    }
   ],
   "source": [
    "for tag in soup.find_all(True):\n",
    "    print(tag.name)"
   ]
  },
  {
   "cell_type": "markdown",
   "metadata": {},
   "source": [
    "##### Retrieving weblinks by filtering with string objects"
   ]
  },
  {
   "cell_type": "code",
   "execution_count": 19,
   "metadata": {},
   "outputs": [
    {
     "output_type": "stream",
     "name": "stdout",
     "text": "http://bit.ly/LPlNDJj\nhttp://www.data-mania.com/blog/m2m-vs-iot/\nbit.ly/LPlNDJj\nhttp://mat.se/\nhttp://bit.ly/LPlNDJj\nhttps://click.linksynergy.com/deeplink?id=*JDLXjeE*wk&mid=39197&murl=https%3A%2F%2Fwww.udemy.com%2Ftopic%2Finternet-of-things%2F%3Fsort%3Dhighest-rated\nhttp://www.skyfilabs.com/iot-online-courses\nhttps://www.coursera.org/specializations/iot\nbit.ly/LPlNDJj\nhttp://bit.ly/LPlNDJj\n"
    }
   ],
   "source": [
    "for link in soup.find_all('a'):\n",
    "    print(link.get('href'))"
   ]
  },
  {
   "cell_type": "markdown",
   "metadata": {},
   "source": [
    "##### Retrieving strings by filtering with regular expressions"
   ]
  },
  {
   "cell_type": "code",
   "execution_count": 20,
   "metadata": {},
   "outputs": [
    {
     "output_type": "execute_result",
     "data": {
      "text/plain": "[' & Data Engineering: Sensors that are embedded within IoT devices spin off machine-generated data like it’s going out of style. For IoT to function, the platform must be solidly engineered to handle big data. Be assured, that requires some serious data engineering.']"
     },
     "metadata": {},
     "execution_count": 20
    }
   ],
   "source": [
    "soup.find_all(string=re.compile('data'))"
   ]
  },
  {
   "cell_type": "code",
   "execution_count": null,
   "metadata": {},
   "outputs": [],
   "source": []
  }
 ],
 "metadata": {
  "kernelspec": {
   "display_name": "Python 3",
   "language": "python",
   "name": "python3"
  },
  "language_info": {
   "codemirror_mode": {
    "name": "ipython",
    "version": 3
   },
   "file_extension": ".py",
   "mimetype": "text/x-python",
   "name": "python",
   "nbconvert_exporter": "python",
   "pygments_lexer": "ipython3",
   "version": "3.8.2-final"
  }
 },
 "nbformat": 4,
 "nbformat_minor": 1
}